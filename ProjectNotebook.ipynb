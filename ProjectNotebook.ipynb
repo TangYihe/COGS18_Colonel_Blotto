{
 "cells": [
  {
   "cell_type": "markdown",
   "metadata": {},
   "source": [
    "# Colonel Blotto Project"
   ]
  },
  {
   "cell_type": "markdown",
   "metadata": {},
   "source": [
    "#### The Colonel Blotto Game\n",
    "- The Colonel Blotto Game is a simple game that can be played between two players.   \n",
    "- Each player has 100 indistiguishable knights and need to decide an **arrangement** that place these knights into 10 castles, numbered 1 to 10.  \n",
    "- A **battle** consists of two players comparing their armies castle by castle. The player who wins the most castles will win the battle and gain 1 point. If they tie, they will each gain 0.5 points.  \n",
    "- For example, if the two players arrangments are:  \n",
    "\n",
    "|Castle # |  1 | 2 | 3 | 4 | 5 | 6 | 7 | 8 | 9 | 10|\n",
    "|---------|------|-----|-----|-----|-----|-----|-----|-----|-----|-----|\n",
    "|Player 1| 15  |   15  |  20  |   5   |   0   |  10  |   5   |  20  |  10  |   0|\n",
    "|Player 2|  3  |      8   |   6  |  13   |  9   |   8    |  1   |   39 |  13    |  0 |\n",
    "|Player wins| 1| 1 | 1| 2 | 2 | 1 | 1 | 2 | 2 | Tie|\n",
    "\n",
    "- Therefore, player 1 wins 5 castles, player 2 wins 4 castles. Player 1 wins the battle and gets 1 point from this battle. On the other hand, Player 2 loses the battle and gets 0 point from this battle.\n",
    "- This description is adopted from Prof.Miles Jones' CSE21 class\n",
    "\n",
    "#### The Goal of My Project\n",
    "\n",
    "- Now I get a list of arrangements chosen by some people playing this game -- I will call this the **sample population** later in the code. I propose a knight arrangement, and battles with each of the arrangements in the list, and sum up the score I got from each battle. \n",
    "- I'm interested to find an arrangement that gets as high total **score** as possible. \n",
    "\n",
    "#### My Algorithm\n",
    "Of course, I can just check every possible arrangment and find the one with highest score. However, as the size of the game grows (for example, what if I have 1000 knights?), the brute force approach will become less time effecient.  \n",
    "Instead, I'll implement a \"greedy\" (not exactly) algorithm that runs as follows:\n",
    "1. First, initialize so I have at least 2 knights at each castle. Then, choose a percentage. Say, 80%.\n",
    "2. After that, assign the rest of the knights to castles. Go castle by castle and try to exceed 80% (or the percentage that we chose) of the arrangments on that castle until running out of knights. "
   ]
  },
  {
   "cell_type": "markdown",
   "metadata": {},
   "source": [
    "## Package Import\n",
    "\n"
   ]
  },
  {
   "cell_type": "code",
   "execution_count": 1,
   "metadata": {},
   "outputs": [],
   "source": [
    "# External packages\n",
    "\n",
    "import numpy as np\n",
    "import random, operator, math\n",
    "import pandas as pd\n",
    "import matplotlib.pyplot as plt\n",
    "import sys"
   ]
  },
  {
   "cell_type": "code",
   "execution_count": 2,
   "metadata": {},
   "outputs": [],
   "source": [
    "# My classes and functions\n",
    "sys.path.append('/home/yitang/Project_Sp21/my_module')\n",
    "\n",
    "from classes import *\n",
    "from functions import *"
   ]
  },
  {
   "cell_type": "code",
   "execution_count": 3,
   "metadata": {},
   "outputs": [
    {
     "name": "stdout",
     "output_type": "stream",
     "text": [
      "\u001b[1m============================= test session starts ==============================\u001b[0m\r\n",
      "platform linux -- Python 3.8.6, pytest-6.2.1, py-1.10.0, pluggy-0.13.1\r\n",
      "rootdir: /home/yitang/Project_Sp21\r\n",
      "\u001b[1mcollecting ... \u001b[0m\u001b[1m\r",
      "collected 4 items                                                              \u001b[0m\r\n",
      "\r\n",
      "my_module/test_functions.py \u001b[32m.\u001b[0m\u001b[32m.\u001b[0m\u001b[32m.\u001b[0m\u001b[32m.\u001b[0m\u001b[32m                                         [100%]\u001b[0m\r\n",
      "\r\n",
      "\u001b[32m============================== \u001b[32m\u001b[1m4 passed\u001b[0m\u001b[32m in 0.04s\u001b[0m\u001b[32m ===============================\u001b[0m\r\n"
     ]
    }
   ],
   "source": [
    "# Run unit tests to make sure class and functions works\n",
    "!pytest"
   ]
  },
  {
   "cell_type": "markdown",
   "metadata": {},
   "source": [
    "## Data Import\n",
    "\n",
    "Now we import the data of a sample population of colonel blotto instances.  \n",
    "Then, we generate our sample population from the data."
   ]
  },
  {
   "cell_type": "code",
   "execution_count": 4,
   "metadata": {},
   "outputs": [
    {
     "data": {
      "text/html": [
       "<div>\n",
       "<style scoped>\n",
       "    .dataframe tbody tr th:only-of-type {\n",
       "        vertical-align: middle;\n",
       "    }\n",
       "\n",
       "    .dataframe tbody tr th {\n",
       "        vertical-align: top;\n",
       "    }\n",
       "\n",
       "    .dataframe thead th {\n",
       "        text-align: right;\n",
       "    }\n",
       "</style>\n",
       "<table border=\"1\" class=\"dataframe\">\n",
       "  <thead>\n",
       "    <tr style=\"text-align: right;\">\n",
       "      <th></th>\n",
       "      <th>Castle 1</th>\n",
       "      <th>Castle 2</th>\n",
       "      <th>Castle 3</th>\n",
       "      <th>Castle 4</th>\n",
       "      <th>Castle 5</th>\n",
       "      <th>Castle 6</th>\n",
       "      <th>Castle 7</th>\n",
       "      <th>Castle 8</th>\n",
       "      <th>Castle 9</th>\n",
       "      <th>Castle 10</th>\n",
       "    </tr>\n",
       "  </thead>\n",
       "  <tbody>\n",
       "    <tr>\n",
       "      <th>0</th>\n",
       "      <td>17</td>\n",
       "      <td>0</td>\n",
       "      <td>18</td>\n",
       "      <td>16</td>\n",
       "      <td>0</td>\n",
       "      <td>0</td>\n",
       "      <td>16</td>\n",
       "      <td>16</td>\n",
       "      <td>0</td>\n",
       "      <td>17</td>\n",
       "    </tr>\n",
       "    <tr>\n",
       "      <th>1</th>\n",
       "      <td>0</td>\n",
       "      <td>14</td>\n",
       "      <td>16</td>\n",
       "      <td>16</td>\n",
       "      <td>0</td>\n",
       "      <td>0</td>\n",
       "      <td>15</td>\n",
       "      <td>14</td>\n",
       "      <td>11</td>\n",
       "      <td>14</td>\n",
       "    </tr>\n",
       "    <tr>\n",
       "      <th>2</th>\n",
       "      <td>0</td>\n",
       "      <td>0</td>\n",
       "      <td>16</td>\n",
       "      <td>17</td>\n",
       "      <td>17</td>\n",
       "      <td>17</td>\n",
       "      <td>17</td>\n",
       "      <td>16</td>\n",
       "      <td>0</td>\n",
       "      <td>0</td>\n",
       "    </tr>\n",
       "    <tr>\n",
       "      <th>3</th>\n",
       "      <td>2</td>\n",
       "      <td>2</td>\n",
       "      <td>16</td>\n",
       "      <td>16</td>\n",
       "      <td>21</td>\n",
       "      <td>11</td>\n",
       "      <td>2</td>\n",
       "      <td>12</td>\n",
       "      <td>12</td>\n",
       "      <td>6</td>\n",
       "    </tr>\n",
       "    <tr>\n",
       "      <th>4</th>\n",
       "      <td>1</td>\n",
       "      <td>16</td>\n",
       "      <td>16</td>\n",
       "      <td>1</td>\n",
       "      <td>16</td>\n",
       "      <td>1</td>\n",
       "      <td>21</td>\n",
       "      <td>6</td>\n",
       "      <td>16</td>\n",
       "      <td>6</td>\n",
       "    </tr>\n",
       "  </tbody>\n",
       "</table>\n",
       "</div>"
      ],
      "text/plain": [
       "   Castle 1  Castle 2  Castle 3  Castle 4  Castle 5  Castle 6  Castle 7  \\\n",
       "0        17         0        18        16         0         0        16   \n",
       "1         0        14        16        16         0         0        15   \n",
       "2         0         0        16        17        17        17        17   \n",
       "3         2         2        16        16        21        11         2   \n",
       "4         1        16        16         1        16         1        21   \n",
       "\n",
       "   Castle 8  Castle 9  Castle 10  \n",
       "0        16         0         17  \n",
       "1        14        11         14  \n",
       "2        16         0          0  \n",
       "3        12        12          6  \n",
       "4         6        16          6  "
      ]
     },
     "execution_count": 4,
     "metadata": {},
     "output_type": "execute_result"
    }
   ],
   "source": [
    "# load data\n",
    "df = pd.read_csv('./Data/blotto_data.csv')\n",
    "\n",
    "# example data \n",
    "df[:5]"
   ]
  },
  {
   "cell_type": "code",
   "execution_count": 5,
   "metadata": {},
   "outputs": [],
   "source": [
    "# Construct our sample population from data above\n",
    "\n",
    "sample_population = []\n",
    "\n",
    "for ind in range(df.shape[0]):\n",
    "    sample_population.append(CBInstance(list(df.iloc[ind])))"
   ]
  },
  {
   "cell_type": "markdown",
   "metadata": {},
   "source": [
    "## Running our algorithm on sample_population\n",
    "\n",
    "The implementation of my algorithm is in functions.py.  \n",
    "Now it's time to see how well the algorithm works!"
   ]
  },
  {
   "cell_type": "code",
   "execution_count": 6,
   "metadata": {},
   "outputs": [
    {
     "name": "stdout",
     "output_type": "stream",
     "text": [
      "The resulting arrangement is:  [2, 16, 2, 17, 17, 17, 2, 9, 2, 16]\n",
      "Its score against sample_population is:  55.5\n"
     ]
    }
   ],
   "source": [
    "testrun_res = perc_greedy(sample_population)\n",
    "print('The resulting arrangement is: ', testrun_res.get_arr())\n",
    "print('Its score against sample_population is: ', testrun_res.get_score())"
   ]
  },
  {
   "cell_type": "markdown",
   "metadata": {},
   "source": [
    "Not bad, huh? `df.shape[0]` gives us 78, which means we earned 55.5 points out of 78 battles!  \n",
    "\n",
    "A question may come up: our algorithm has a hyperparameter, percentage.    \n",
    "What is the best value for that, then? \n",
    "\n",
    "To answer this question, we run the algorithm on different percentage values."
   ]
  },
  {
   "cell_type": "code",
   "execution_count": 7,
   "metadata": {},
   "outputs": [],
   "source": [
    "percentage = range(50,100)\n",
    "perc_arr_result = []\n",
    "perc_score_result = []\n",
    "\n",
    "\n",
    "# Run through different percentage values to collect result data\n",
    "for perc in percentage:\n",
    "    current_result = perc_greedy(sample_population, perc)\n",
    "\n",
    "    perc_arr_result.append(current_result.get_arr())\n",
    "    perc_score_result.append(current_result.get_score())"
   ]
  },
  {
   "cell_type": "code",
   "execution_count": 8,
   "metadata": {},
   "outputs": [
    {
     "data": {
      "text/html": [
       "<div>\n",
       "<style scoped>\n",
       "    .dataframe tbody tr th:only-of-type {\n",
       "        vertical-align: middle;\n",
       "    }\n",
       "\n",
       "    .dataframe tbody tr th {\n",
       "        vertical-align: top;\n",
       "    }\n",
       "\n",
       "    .dataframe thead th {\n",
       "        text-align: right;\n",
       "    }\n",
       "</style>\n",
       "<table border=\"1\" class=\"dataframe\">\n",
       "  <thead>\n",
       "    <tr style=\"text-align: right;\">\n",
       "      <th></th>\n",
       "      <th>score</th>\n",
       "      <th>arrangement</th>\n",
       "    </tr>\n",
       "    <tr>\n",
       "      <th>percentage</th>\n",
       "      <th></th>\n",
       "      <th></th>\n",
       "    </tr>\n",
       "  </thead>\n",
       "  <tbody>\n",
       "    <tr>\n",
       "      <th>50</th>\n",
       "      <td>35.0</td>\n",
       "      <td>[12, 9, 13, 12, 12, 11, 2, 11, 11, 7]</td>\n",
       "    </tr>\n",
       "    <tr>\n",
       "      <th>51</th>\n",
       "      <td>35.0</td>\n",
       "      <td>[12, 9, 13, 12, 12, 11, 2, 11, 11, 7]</td>\n",
       "    </tr>\n",
       "    <tr>\n",
       "      <th>52</th>\n",
       "      <td>37.5</td>\n",
       "      <td>[12, 10, 2, 12, 13, 11, 9, 12, 12, 7]</td>\n",
       "    </tr>\n",
       "    <tr>\n",
       "      <th>53</th>\n",
       "      <td>41.5</td>\n",
       "      <td>[13, 10, 2, 12, 13, 11, 5, 12, 12, 10]</td>\n",
       "    </tr>\n",
       "    <tr>\n",
       "      <th>54</th>\n",
       "      <td>38.5</td>\n",
       "      <td>[13, 11, 2, 12, 13, 12, 12, 2, 12, 11]</td>\n",
       "    </tr>\n",
       "  </tbody>\n",
       "</table>\n",
       "</div>"
      ],
      "text/plain": [
       "            score                             arrangement\n",
       "percentage                                               \n",
       "50           35.0   [12, 9, 13, 12, 12, 11, 2, 11, 11, 7]\n",
       "51           35.0   [12, 9, 13, 12, 12, 11, 2, 11, 11, 7]\n",
       "52           37.5   [12, 10, 2, 12, 13, 11, 9, 12, 12, 7]\n",
       "53           41.5  [13, 10, 2, 12, 13, 11, 5, 12, 12, 10]\n",
       "54           38.5  [13, 11, 2, 12, 13, 12, 12, 2, 12, 11]"
      ]
     },
     "execution_count": 8,
     "metadata": {},
     "output_type": "execute_result"
    }
   ],
   "source": [
    "# Construct dataframe to better organize collected data\n",
    "perc_result = pd.DataFrame({'percentage':percentage, 'score':perc_score_result, \n",
    "                            'arrangement':perc_arr_result})\n",
    "\n",
    "perc_result = perc_result.set_index('percentage')\n",
    "\n",
    "# Example of rows in dataframe\n",
    "perc_result[:5]"
   ]
  },
  {
   "cell_type": "markdown",
   "metadata": {},
   "source": [
    "## Result Visualization\n",
    "We plot the scores to get a visual illustration."
   ]
  },
  {
   "cell_type": "code",
   "execution_count": 9,
   "metadata": {},
   "outputs": [
    {
     "data": {
      "image/png": "[encoded data removed]",
      "text/plain": [
       "<Figure size 432x288 with 1 Axes>"
      ]
     },
     "metadata": {
      "needs_background": "light"
     },
     "output_type": "display_data"
    }
   ],
   "source": [
    "plt.plot(percentage, perc_score_result)\n",
    "plt.show()"
   ]
  },
  {
   "cell_type": "markdown",
   "metadata": {},
   "source": [
    "Around 80 looks like a good percentage. Then what if we want to know what value exactly works the best?  \n",
    "Now we sort the result instances by their score."
   ]
  },
  {
   "cell_type": "code",
   "execution_count": 10,
   "metadata": {},
   "outputs": [
    {
     "data": {
      "text/html": [
       "<div>\n",
       "<style scoped>\n",
       "    .dataframe tbody tr th:only-of-type {\n",
       "        vertical-align: middle;\n",
       "    }\n",
       "\n",
       "    .dataframe tbody tr th {\n",
       "        vertical-align: top;\n",
       "    }\n",
       "\n",
       "    .dataframe thead th {\n",
       "        text-align: right;\n",
       "    }\n",
       "</style>\n",
       "<table border=\"1\" class=\"dataframe\">\n",
       "  <thead>\n",
       "    <tr style=\"text-align: right;\">\n",
       "      <th></th>\n",
       "      <th>score</th>\n",
       "      <th>arrangement</th>\n",
       "    </tr>\n",
       "    <tr>\n",
       "      <th>percentage</th>\n",
       "      <th></th>\n",
       "      <th></th>\n",
       "    </tr>\n",
       "  </thead>\n",
       "  <tbody>\n",
       "    <tr>\n",
       "      <th>79</th>\n",
       "      <td>59.0</td>\n",
       "      <td>[2, 16, 2, 17, 17, 16, 2, 10, 2, 16]</td>\n",
       "    </tr>\n",
       "    <tr>\n",
       "      <th>78</th>\n",
       "      <td>58.5</td>\n",
       "      <td>[2, 15, 2, 17, 17, 16, 2, 11, 2, 16]</td>\n",
       "    </tr>\n",
       "    <tr>\n",
       "      <th>77</th>\n",
       "      <td>58.5</td>\n",
       "      <td>[2, 15, 2, 17, 17, 16, 2, 11, 2, 16]</td>\n",
       "    </tr>\n",
       "    <tr>\n",
       "      <th>89</th>\n",
       "      <td>57.0</td>\n",
       "      <td>[4, 17, 2, 18, 2, 18, 2, 18, 2, 17]</td>\n",
       "    </tr>\n",
       "    <tr>\n",
       "      <th>88</th>\n",
       "      <td>56.5</td>\n",
       "      <td>[2, 16, 2, 18, 18, 18, 2, 5, 2, 17]</td>\n",
       "    </tr>\n",
       "  </tbody>\n",
       "</table>\n",
       "</div>"
      ],
      "text/plain": [
       "            score                           arrangement\n",
       "percentage                                             \n",
       "79           59.0  [2, 16, 2, 17, 17, 16, 2, 10, 2, 16]\n",
       "78           58.5  [2, 15, 2, 17, 17, 16, 2, 11, 2, 16]\n",
       "77           58.5  [2, 15, 2, 17, 17, 16, 2, 11, 2, 16]\n",
       "89           57.0   [4, 17, 2, 18, 2, 18, 2, 18, 2, 17]\n",
       "88           56.5   [2, 16, 2, 18, 18, 18, 2, 5, 2, 17]"
      ]
     },
     "execution_count": 10,
     "metadata": {},
     "output_type": "execute_result"
    }
   ],
   "source": [
    "perc_result_sorted = perc_result.sort_values(by='score', ascending=False)\n",
    "\n",
    "# Get the best 5 percentage values\n",
    "perc_result_sorted[:5]"
   ]
  },
  {
   "cell_type": "markdown",
   "metadata": {},
   "source": [
    "Wow! Looks like 79% works the best! It's earning 59 points against a population of total 78 arrangments, which is pretty good!"
   ]
  },
  {
   "cell_type": "markdown",
   "metadata": {},
   "source": [
    "#### About this course/project\n",
    "\n",
    "I won't be appealing for extra credit, since I'm a junior in CS major taking this class for a major requirement that I didn't know before. I feel like the student who didn't have coding experience should earn extra credit if they are able to construct a whole project by themselves.    \n",
    "However, I just want to say thank you to all the course staff. I wish I had a course like this when I first learnt coding! Have a great summer!\n",
    "\n"
   ]
  },
  {
   "cell_type": "code",
   "execution_count": null,
   "metadata": {},
   "outputs": [],
   "source": []
  }
 ],
 "metadata": {
  "kernelspec": {
   "display_name": "Python 3",
   "language": "python",
   "name": "python3"
  },
  "language_info": {
   "codemirror_mode": {
    "name": "ipython",
    "version": 3
   },
   "file_extension": ".py",
   "mimetype": "text/x-python",
   "name": "python",
   "nbconvert_exporter": "python",
   "pygments_lexer": "ipython3",
   "version": "3.8.6"
  }
 },
 "nbformat": 4,
 "nbformat_minor": 2
}
